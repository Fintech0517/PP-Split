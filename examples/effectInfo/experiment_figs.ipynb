{
 "cells": [
  {
   "cell_type": "code",
   "execution_count": null,
   "metadata": {},
   "outputs": [],
   "source": [
    "# 导包\n",
    "import sys\n",
    "sys.path.append('../')\n",
    "\n",
    "import matplotlib.pyplot as plt\n",
    "import numpy as np\n",
    "import pandas as pd\n",
    "# import seaborn as sns\n",
    "from matplotlib.ticker import ScalarFormatter, StrMethodFormatter, MaxNLocator\n",
    "\n",
    "\n",
    "import scienceplots"
   ]
  },
  {
   "cell_type": "code",
   "execution_count": null,
   "metadata": {},
   "outputs": [],
   "source": [
    "# 样式设置\n",
    "# plt.style.use(['science','no-latex','ieee'])\n",
    "\n",
    "plt.rcParams.update({\n",
    "#     'font.family': 'Times New Roman',\n",
    "    'font.size': 22,\n",
    "    'axes.labelsize': 22,\n",
    "    'axes.titlesize': 24,\n",
    "    'axes.linewidth': 1,\n",
    "    'xtick.labelsize': 18,\n",
    "    'ytick.labelsize': 18,\n",
    "    'xtick.major.size': 15,\n",
    "    'ytick.major.size': 15,\n",
    "    'xtick.major.width': 1,\n",
    "    'ytick.major.width': 1,\n",
    "    'legend.fontsize': 10,\n",
    "    'lines.linewidth': 40,\n",
    "    'lines.markersize': 16,\n",
    "    'axes.grid': True,\n",
    "    'grid.alpha': 0.53,\n",
    "    'grid.linestyle': '--',\n",
    "    'axes.spines.top': True,  # 修改此行\n",
    "    'axes.spines.right': True  # 修改此行\n",
    "})\n",
    "# palette = sns.color_palette(\"colorblind\")\n",
    "\n",
    "# 创建 ScalarFormatter 对象\n",
    "formatter_sci = ScalarFormatter(useMathText=True)\n",
    "formatter_sci.set_powerlimits((-2, 2))  # 设置指数范围\n",
    "formatter_str = StrMethodFormatter(\"{x:.2f}\")\n"
   ]
  },
  {
   "cell_type": "code",
   "execution_count": null,
   "metadata": {},
   "outputs": [],
   "source": []
  },
  {
   "cell_type": "code",
   "execution_count": null,
   "metadata": {},
   "outputs": [],
   "source": []
  },
  {
   "cell_type": "code",
   "execution_count": null,
   "metadata": {},
   "outputs": [],
   "source": []
  },
  {
   "cell_type": "code",
   "execution_count": null,
   "metadata": {},
   "outputs": [],
   "source": []
  },
  {
   "cell_type": "code",
   "execution_count": null,
   "metadata": {},
   "outputs": [],
   "source": []
  },
  {
   "cell_type": "code",
   "execution_count": null,
   "metadata": {},
   "outputs": [],
   "source": []
  }
 ],
 "metadata": {
  "language_info": {
   "name": "python"
  }
 },
 "nbformat": 4,
 "nbformat_minor": 2
}
