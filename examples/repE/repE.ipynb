{
 "cells": [
  {
   "cell_type": "markdown",
   "metadata": {},
   "source": [
    "# RepE 相关的研究\n",
    "20240320左右开始的"
   ]
  },
  {
   "cell_type": "code",
   "execution_count": 1,
   "metadata": {},
   "outputs": [],
   "source": [
    "# 导包\n",
    "import torch\n",
    "import os\n",
    "import argparse\n",
    "import pandas as pd\n",
    "import tqdm\n",
    "import numpy as np\n",
    "# os.environ['NUMEXPR_MAX_THREADS'] = '48'\n",
    "\n",
    "# 导入repE相关\n",
    "import sys\n",
    "sys.path.append('/home/dengruijun/data/FinTech/PP-Split/')\n",
    "from ppsplit.quantification.rep_reading.rep_reader import RepE\n",
    "from target_model.data_preprocessing.dataset import pair_data\n",
    "\n",
    "# 导入各个baseline模型及其数据集预处理方法\n",
    "# 模型\n",
    "from target_model.models.splitnn_utils import split_weights_client\n",
    "from target_model.models.VGG import VGG,VGG5Decoder,model_cfg\n",
    "from target_model.models.BankNet import BankNet1,bank_cfg\n",
    "from target_model.models.CreditNet import CreditNet1,credit_cfg\n",
    "from target_model.models.PurchaseNet import PurchaseClassifier1,purchase_cfg\n",
    "\n",
    "# 数据预处理方法\n",
    "from target_model.data_preprocessing.preprocess_cifar10 import get_cifar10_normalize,deprocess,get_indexed_loader\n",
    "from target_model.data_preprocessing.preprocess_bank import bank_dataset,preprocess_bank\n",
    "from target_model.data_preprocessing.preprocess_credit import preprocess_credit\n",
    "from target_model.data_preprocessing.preprocess_purchase import preprocess_purchase\n",
    "from target_model.data_preprocessing.dataset import get_one_data\n",
    "\n",
    "# utils\n",
    "from ppsplit.utils.utils import create_dir"
   ]
  },
  {
   "cell_type": "code",
   "execution_count": null,
   "metadata": {},
   "outputs": [],
   "source": []
  },
  {
   "cell_type": "code",
   "execution_count": 2,
   "metadata": {},
   "outputs": [
    {
     "name": "stdout",
     "output_type": "stream",
     "text": [
      "cuda:1\n"
     ]
    }
   ],
   "source": [
    "# 基本参数：\n",
    "args = {\n",
    "        'device':torch.device(\"cuda:1\" if torch.cuda.is_available() else \"cpu\"),\n",
    "        # 'device':torch.device(\"cpu\"),\n",
    "        'dataset':'CIFAR10',\n",
    "        # 'dataset':'bank',\n",
    "        # 'dataset':'credit',\n",
    "        # 'dataset':'purchase',\n",
    "        # 'result_dir': 'InvMetric-202403',\n",
    "        'result_dir': '20240428-Rep-quantify/',\n",
    "        'batch_size':5,\n",
    "        'noise_scale':0, # 防护措施\n",
    "        'num_pairs': 10000, # RepE\n",
    "        }\n",
    "print(args['device'])"
   ]
  },
  {
   "cell_type": "code",
   "execution_count": 3,
   "metadata": {},
   "outputs": [
    {
     "name": "stdout",
     "output_type": "stream",
     "text": [
      "features.0.weight\n",
      "features.0.bias\n",
      "features.1.weight\n",
      "features.1.bias\n",
      "features.1.running_mean\n",
      "features.1.running_var\n",
      "features.1.num_batches_tracked\n",
      "features.4.weight\n",
      "features.4.bias\n",
      "features.5.weight\n",
      "features.5.bias\n",
      "features.5.running_mean\n",
      "features.5.running_var\n",
      "features.5.num_batches_tracked\n"
     ]
    },
    {
     "data": {
      "text/plain": [
       "VGG(\n",
       "  (features): Sequential(\n",
       "    (0): Conv2d(3, 32, kernel_size=(3, 3), stride=(1, 1), padding=(1, 1))\n",
       "    (1): BatchNorm2d(32, eps=1e-05, momentum=0.1, affine=True, track_running_stats=True)\n",
       "    (2): Tanh()\n",
       "    (3): MaxPool2d(kernel_size=2, stride=2, padding=0, dilation=1, ceil_mode=False)\n",
       "    (4): Conv2d(32, 64, kernel_size=(3, 3), stride=(1, 1), padding=(1, 1))\n",
       "    (5): BatchNorm2d(64, eps=1e-05, momentum=0.1, affine=True, track_running_stats=True)\n",
       "    (6): Tanh()\n",
       "  )\n",
       "  (denses): Sequential()\n",
       ")"
      ]
     },
     "execution_count": 3,
     "metadata": {},
     "output_type": "execute_result"
    }
   ],
   "source": [
    "# 加载模型和数据集，并从unit模型中切割出client_model\n",
    "if args['dataset']=='CIFAR10':\n",
    "    # 超参数\n",
    "    testset_len = 10000 # 10000个数据一次 整个测试集合的长度\n",
    "    # split_layer_list = list(range(len(model_cfg['VGG5'])))\n",
    "    split_layer = 2 # 定成2吧？\n",
    "    test_num = 1 # 试验序号\n",
    "    #  nohup python -u repE.py >> 200-split6-first10.out 2>&1  &\n",
    "    # 关键路径\n",
    "    # unit_net_route = '/home/dengruijun/data/FinTech/PP-Split/results/trained_models/VGG5/BN+Tanh/VGG5-params-20ep.pth' # VGG5-BN+Tanh # 存储的是模型参数，不包括模型结构\n",
    "    unit_net_route = '/home/dengruijun/data/FinTech/PP-Split/results/trained_models/VGG5/20240429-RepE/VGG5-params-19ep.pth' # VGG5-BN+Tanh # 存储的是模型参数，不包括模型结构\n",
    "    results_dir  = f\"../results/{args['result_dir']}/VGG5/quantification/{test_num}/\"\n",
    "\n",
    "    # 数据集加载\n",
    "    # trainloader,testloader = get_cifar10_normalize(batch_size = 5)\n",
    "    # one_data_loader = get_one_data(testloader,batch_size = args['batch_size']) #拿到第一个测试数据\n",
    "\n",
    "    # 切割成client model\n",
    "    # vgg5_unit.load_state_dict(torch.load(unit_net_route,map_location=torch.device('cpu'))) # 完整的模型\n",
    "    client_net = VGG('Client','VGG5',split_layer,model_cfg,noise_scale=args['noise_scale'])\n",
    "    pweights = torch.load(unit_net_route)\n",
    "    if split_layer < len(model_cfg['VGG5']):\n",
    "        pweights = split_weights_client(pweights,client_net.state_dict())\n",
    "    client_net.load_state_dict(pweights)\n",
    "\n",
    "elif args['dataset']=='bank':\n",
    "    # 超参数\n",
    "    test_num = 1 # 试验序号\n",
    "    testset_len=8238\n",
    "    # split_layer_list = ['linear1', 'linear2']\n",
    "    split_layer_list = [0,2,4,6]\n",
    "    split_layer = 2\n",
    "\n",
    "    # 关键路径\n",
    "    results_dir  = f\"../results/{args['result_dir']}/Bank/quantification/{test_num}/\"\n",
    "    unit_net_route = '/home/dengruijun/data/FinTech/PP-Split/results/trained_models/Bank/bank-20ep_params.pth'\n",
    "    decoder_route = f\"../results/{args['result_dir']}/Bank/{test_num}/Decoder-layer{split_layer}.pth\"\n",
    "\n",
    "    # 数据集加载\n",
    "    trainloader,testloader = preprocess_bank(batch_size=1)\n",
    "    one_data_loader = get_one_data(testloader,batch_size = args['batch_size']) #拿到第一个测试数据 \n",
    "\n",
    "    # 模型加载\n",
    "    client_net = BankNet1(layer=split_layer,noise_scale=args['noise_scale'])\n",
    "    pweights = torch.load(unit_net_route)\n",
    "    if split_layer < len(bank_cfg):\n",
    "        pweights = split_weights_client(pweights,client_net.state_dict())\n",
    "    client_net.load_state_dict(pweights)\n",
    "\n",
    "elif args['dataset']=='credit':\n",
    "    # 超参数\n",
    "    test_num = 1 # 试验序号\n",
    "    testset_len = 61503 # for the mutual information\n",
    "    split_layer_list = [0,3,6,9]\n",
    "    split_layer = 3\n",
    "    # split_layer_list = ['linear1', 'linear2']\n",
    "\n",
    "    # 关键路径\n",
    "    results_dir  = f\"../results/{args['result_dir']}/Credit/quantification/{test_num}/\"\n",
    "    unit_net_route = '/home/dengruijun/data/FinTech/PP-Split/results/trained_models/credit/credit-20ep_params.pth'\n",
    "    decoder_route = f\"../results/{args['result_dir']}/Credit/{test_num}/Decoder-layer{split_layer}.pth\"\n",
    "\n",
    "    # 数据集加载\n",
    "    trainloader,testloader = preprocess_credit(batch_size=1)\n",
    "    one_data_loader = get_one_data(testloader,batch_size = args['batch_size']) #拿到第一个测试数据\n",
    "\n",
    "    # client模型切割加载\n",
    "    client_net = CreditNet1(layer=split_layer,noise_scale=args['noise_scale'])\n",
    "    pweights = torch.load(unit_net_route)\n",
    "    if split_layer < len(credit_cfg):\n",
    "        pweights = split_weights_client(pweights,client_net.state_dict())\n",
    "    client_net.load_state_dict(pweights)\n",
    "\n",
    "elif args['dataset']=='purchase':\n",
    "    # 超参数\n",
    "    test_num = 1 # 试验序号\n",
    "    testset_len = 39465 # test len\n",
    "    # split_layer_list = [0,1,2,3,4,5,6,7,8]\n",
    "    split_layer = 3\n",
    "\n",
    "    # 关键路径\n",
    "    results_dir = f\"../results/{args['result_dir']}/Purchase/quantification/{test_num}/\"\n",
    "    unit_net_route = '/home/dengruijun/data/FinTech/PP-Split/results/trained_models/Purchase100/Purchase_bestmodel_param.pth'\n",
    "    decoder_route = f\"../results/{args['result_dir']}/Purchase/{test_num}/Decoder-layer{split_layer}.pth\"\n",
    "    \n",
    "    # 数据集加载\n",
    "    trainloader,testloader = preprocess_purchase(batch_size=1)\n",
    "    one_data_loader = get_one_data(testloader,batch_size = args['batch_size']) #拿到第一个测试数据\n",
    "\n",
    "    # 模型加载\n",
    "    client_net = PurchaseClassifier1(layer=split_layer,noise_scale=args['noise_scale'])\n",
    "    # pweights = torch.load(unit_net_route,map_location=torch.device('cpu'))\n",
    "    pweights = torch.load(unit_net_route)\n",
    "    if split_layer < len(purchase_cfg):\n",
    "        pweights = split_weights_client(pweights,client_net.state_dict())\n",
    "    client_net.load_state_dict(pweights)\n",
    "\n",
    "else:\n",
    "    exit(-1)\n",
    "\n",
    "# 创建文件夹\n",
    "create_dir(results_dir)\n",
    "\n",
    "# client_net使用\n",
    "client_net = client_net.to(args['device'])\n",
    "client_net.eval()"
   ]
  },
  {
   "cell_type": "markdown",
   "metadata": {},
   "source": [
    "# 1. RepE迁移到VGG5上来看看"
   ]
  },
  {
   "cell_type": "code",
   "execution_count": 4,
   "metadata": {},
   "outputs": [
    {
     "ename": "ImportError",
     "evalue": "cannot import name 'pair_smashed_data' from 'target_model.data_preprocessing.dataset' (/home/dengruijun/data/FinTech/PP-Split/target_model/data_preprocessing/dataset.py)",
     "output_type": "error",
     "traceback": [
      "\u001b[0;31m---------------------------------------------------------------------------\u001b[0m",
      "\u001b[0;31mImportError\u001b[0m                               Traceback (most recent call last)",
      "\u001b[1;32m/home/dengruijun/data/FinTech/PP-Split/examples/repE/repE.ipynb 单元格 6\u001b[0m line \u001b[0;36m2\n\u001b[1;32m      <a href='vscode-notebook-cell://ssh-remote%2Bdrj-gpu-10_176_22_36/home/dengruijun/data/FinTech/PP-Split/examples/repE/repE.ipynb#W5sdnNjb2RlLXJlbW90ZQ%3D%3D?line=0'>1</a>\u001b[0m \u001b[39m# 导包，为了数据预处理？\u001b[39;00m\n\u001b[0;32m----> <a href='vscode-notebook-cell://ssh-remote%2Bdrj-gpu-10_176_22_36/home/dengruijun/data/FinTech/PP-Split/examples/repE/repE.ipynb#W5sdnNjb2RlLXJlbW90ZQ%3D%3D?line=1'>2</a>\u001b[0m \u001b[39mfrom\u001b[39;00m \u001b[39mtarget_model\u001b[39;00m\u001b[39m.\u001b[39;00m\u001b[39mdata_preprocessing\u001b[39;00m\u001b[39m.\u001b[39;00m\u001b[39mdataset\u001b[39;00m \u001b[39mimport\u001b[39;00m pair_smashed_data,diff_pair_data\n\u001b[1;32m      <a href='vscode-notebook-cell://ssh-remote%2Bdrj-gpu-10_176_22_36/home/dengruijun/data/FinTech/PP-Split/examples/repE/repE.ipynb#W5sdnNjb2RlLXJlbW90ZQ%3D%3D?line=2'>3</a>\u001b[0m \u001b[39mfrom\u001b[39;00m \u001b[39mtarget_model\u001b[39;00m\u001b[39m.\u001b[39;00m\u001b[39mdata_preprocessing\u001b[39;00m\u001b[39m.\u001b[39;00m\u001b[39mpreprocess_cifar10\u001b[39;00m \u001b[39mimport\u001b[39;00m get_cifar10_normalize_two_train\n\u001b[1;32m      <a href='vscode-notebook-cell://ssh-remote%2Bdrj-gpu-10_176_22_36/home/dengruijun/data/FinTech/PP-Split/examples/repE/repE.ipynb#W5sdnNjb2RlLXJlbW90ZQ%3D%3D?line=3'>4</a>\u001b[0m \u001b[39mimport\u001b[39;00m \u001b[39mrandom\u001b[39;00m\n",
      "\u001b[0;31mImportError\u001b[0m: cannot import name 'pair_smashed_data' from 'target_model.data_preprocessing.dataset' (/home/dengruijun/data/FinTech/PP-Split/target_model/data_preprocessing/dataset.py)"
     ]
    }
   ],
   "source": [
    "# 导包，为了数据预处理？\n",
    "from target_model.data_preprocessing.dataset import pair_smashed_data,diff_pair_data\n",
    "from target_model.data_preprocessing.preprocess_cifar10 import get_cifar10_normalize_two_train\n",
    "import random\n",
    "import time\n",
    "import pickle\n",
    "from torch.utils.data import DataLoader\n"
   ]
  },
  {
   "cell_type": "code",
   "execution_count": null,
   "metadata": {},
   "outputs": [],
   "source": [
    "#  Picking the top X probabilities \n",
    "def clipDataTopX(dataToClip, top=3):\n",
    "    sorted_indices = torch.argsort(dataToClip,dim=1,descending=True)[:,:top]\n",
    "    new_data = torch.gather(dataToClip,1,sorted_indices)\n",
    "    return new_data\n",
    "\n",
    "def clipDataFirstX(dataToClip, top=3):\n",
    "    new_data = dataToClip[:,:top]\n",
    "    return new_data"
   ]
  },
  {
   "cell_type": "code",
   "execution_count": null,
   "metadata": {},
   "outputs": [],
   "source": [
    "# 1. designing stimulus and test\n",
    "dataset_route = f\"../results/{args['result_dir']}/VGG5/quantification/{args['num_pairs']}pairs/\"\n",
    "if os.path.isfile(dataset_route+'train_feature.pkl'): # 直接加载预处理好的数据集\n",
    "    print(f\"=> loading paired dataset from {dataset_route}\")\n",
    "    with open(dataset_route+'train_feature.pkl','rb') as f:\n",
    "        train_feature = pickle.load(file=f)       \n",
    "    with open(dataset_route+'test_feature.pkl','rb') as f:\n",
    "        test_feature=pickle.load(file=f)   \n",
    "    with open(dataset_route+'train_label.pkl','rb') as f:                                                       \n",
    "        train_labels=pickle.load(file=f)      \n",
    "    with open(dataset_route+'test_label.pkl', 'rb') as f:                                                    \n",
    "        test_labels=pickle.load(file=f)     \n",
    "    train_loader= DataLoader(train_feature,shuffle=False,batch_size=1)\n",
    "    test_loader = DataLoader(test_feature,shuffle=False,batch_size=1)       \n",
    "\n",
    "else: # 进行预处理并存储\n",
    "    seen_loader,unseen_loader,_ = get_cifar10_normalize_two_train(batch_size=1)\n",
    "\n",
    "    train_loader,train_labels,test_loader,test_labels = pair_smashed_data(seen_loader,\n",
    "                                                                        unseen_loader,\n",
    "                                                                        num_pairs=args['num_pairs'])\n",
    "    create_dir(dataset_route)\n",
    "    with open(dataset_route+'train_feature.pkl','wb') as f:\n",
    "        pickle.dump(obj=train_loader.dataset,file=f)       \n",
    "    with open(dataset_route+'test_feature.pkl','wb') as f:\n",
    "        pickle.dump(obj=test_loader.dataset,file=f)   \n",
    "    with open(dataset_route+'train_label.pkl','wb') as f:                                                       \n",
    "        pickle.dump(obj=train_labels,file=f)      \n",
    "    with open(dataset_route+'test_label.pkl', 'wb') as f:                                                    \n",
    "        pickle.dump(obj=test_labels,file=f)                                                          \n",
    "\n",
    "print(train_labels[0])\n",
    "print(test_labels[0].index(1))"
   ]
  },
  {
   "cell_type": "code",
   "execution_count": null,
   "metadata": {},
   "outputs": [],
   "source": [
    "\n",
    "# 2. collecting neural activity\n",
    "# 收集所有smashed data\n",
    "train_smashed_data_list = []\n",
    "for j, data in enumerate(tqdm.tqdm(train_loader)): # 对trainloader遍历\n",
    "    # print(\"data: \", len(data))\n",
    "    features=data.to(args['device'])\n",
    "    \n",
    "    with torch.no_grad():\n",
    "        pred = client_net(features)\n",
    "        train_smashed_data_list.append(pred)\n",
    "\n",
    "train_smashed_data_list=torch.stack(train_smashed_data_list).squeeze()\n",
    "train_smashed_data_list=train_smashed_data_list.reshape(train_smashed_data_list.shape[0],-1)\n",
    "# train_smashed_data_list = clipDataTopX(train_smashed_data_list,top=1)\n",
    "train_smashed_data_list = clipDataFirstX(train_smashed_data_list,top=10)\n",
    "\n",
    "# 相对距离\n",
    "diff_data = diff_pair_data(train_smashed_data_list) # np.array\n",
    "print(\"diff_data.shape: \", diff_data.shape)"
   ]
  },
  {
   "cell_type": "code",
   "execution_count": null,
   "metadata": {},
   "outputs": [],
   "source": [
    "# 3. constructing a linear model\n",
    "# 训练direction finder\n",
    "reader = PCA_Reader(n_components=1) # 要的是numpy数据？可以要tensor数据\n",
    "# diff_data = diff_data.reshape(diff_data.shape[0],-1)\n",
    "directions = reader.get_rep_direction(diff_data)\n",
    "signs = reader.get_sign(hidden_states=train_smashed_data_list,train_labels=train_labels)\n",
    "print('direction shape of first layer: ', reader.direction.shape)\n",
    "print('signs of first layer: ', reader.direction_signs)"
   ]
  },
  {
   "cell_type": "code",
   "execution_count": null,
   "metadata": {},
   "outputs": [],
   "source": [
    "# 4. 测试\n",
    "test_smashed_data_list = []\n",
    "for j, data in enumerate(tqdm.tqdm(test_loader)): # 对trainloader遍历\n",
    "    features=data.to(args['device'])\n",
    "    with torch.no_grad():\n",
    "        pred = client_net(features)\n",
    "        test_smashed_data_list.append(pred)"
   ]
  },
  {
   "cell_type": "code",
   "execution_count": null,
   "metadata": {},
   "outputs": [],
   "source": [
    "test_smashed_data_list=torch.stack(test_smashed_data_list).squeeze()\n",
    "test_smashed_data_list=test_smashed_data_list.reshape(test_smashed_data_list.shape[0],-1)\n",
    "# test_smashed_data_list = clipDataTopX(test_smashed_data_list,top=1)·\n",
    "test_smashed_data_list = clipDataFirstX(test_smashed_data_list,top=10)\n"
   ]
  },
  {
   "cell_type": "code",
   "execution_count": null,
   "metadata": {},
   "outputs": [],
   "source": [
    "acc = reader.quantify_acc(hidden_states=test_smashed_data_list,test_labels=test_labels)\n",
    "print(f\"quantified accuracy(privacy lekage): {acc} \")"
   ]
  },
  {
   "cell_type": "code",
   "execution_count": null,
   "metadata": {},
   "outputs": [],
   "source": []
  },
  {
   "cell_type": "markdown",
   "metadata": {},
   "source": [
    "# 2. MIA相关实验\n"
   ]
  },
  {
   "cell_type": "markdown",
   "metadata": {},
   "source": [
    "# 3. 针对DRA的来做一下实验"
   ]
  },
  {
   "cell_type": "code",
   "execution_count": 5,
   "metadata": {},
   "outputs": [
    {
     "name": "stdout",
     "output_type": "stream",
     "text": [
      "inv_sim_columns:  Index(['euc', 'mse', 'ssim'], dtype='object')\n"
     ]
    }
   ],
   "source": [
    "# 提取数据\n",
    "import pandas as pd\n",
    "import sys\n",
    "sys.path.append('/home/dengruijun/data/FinTech/PP-Split/')\n",
    "from ppsplit.utils.utils import plot_array_distribution\n",
    "\n",
    "# cifar10 layer2\n",
    "# fisher\n",
    "fisher_data_path = '/home/dengruijun/data/project/AISecurity/Inverse_efficacy/results/2-3-VGG5/quantification/1/6.2/dFIL.csv'\n",
    "# mse [euc,mse,ssim]\n",
    "mse_data_path = '/home/dengruijun/data/FinTech/PP-Split/results/inverse-model-results-20240414/VGG5/1/layer2/inv-sim.csv'\n",
    "\n",
    "# inv_data_path = '/home/dengruijun/data/FinTech/PP-Split/results/Purchase/1/layer3/inv-X.csv'\n",
    "# sim_data_path = '/home/dengruijun/data/FinTech/PP-Split/results/Purchase/1/layer3/inv-sim.csv'\n",
    "\n",
    "sim_df = pd.read_csv(mse_data_path,sep=',',quotechar='\"')\n",
    "# sim_df = pd.read_csv(fisher_data_path,sep=',',quotechar='\"')\n",
    "\n",
    "# 打印文件基本信息\n",
    "print('inv_sim_columns: ', sim_df.columns)"
   ]
  },
  {
   "cell_type": "code",
   "execution_count": 6,
   "metadata": {},
   "outputs": [
    {
     "name": "stdout",
     "output_type": "stream",
     "text": [
      "mse_df.shape:  (10000,)\n",
      "data.size(): 10000\n"
     ]
    },
    {
     "data": {
      "image/png": "[encoded data removed]",
      "text/plain": [
       "<Figure size 640x480 with 1 Axes>"
      ]
     },
     "metadata": {},
     "output_type": "display_data"
    },
    {
     "name": "stdout",
     "output_type": "stream",
     "text": [
      "sigma(prob): 0.9999999999999999\n",
      "counts[0],counts[-1],counts[49] 0.046 9.999999999999912e-05 0.0004000000000000009\n"
     ]
    },
    {
     "data": {
      "text/plain": [
       "<Figure size 640x480 with 0 Axes>"
      ]
     },
     "metadata": {},
     "output_type": "display_data"
    }
   ],
   "source": [
    "# 打印指标分布，观察指标情况\n",
    "# print 指标分布\n",
    "mse_df = sim_df['mse'].to_numpy() # mse \n",
    "print(\"mse_df.shape: \",mse_df.shape)\n",
    "# mse_df = sim_df['2'].to_numpy() # 1.0/dFIL\n",
    "plot_array_distribution(mse_df,start=-1, end=1,notes=split_layer)"
   ]
  },
  {
   "cell_type": "code",
   "execution_count": 7,
   "metadata": {},
   "outputs": [
    {
     "name": "stdout",
     "output_type": "stream",
     "text": [
      "小组中的数据索引： [ True  True  True ... False  True  True]\n",
      "大组中的数据索引： [False False False ...  True False False]\n",
      "小组数据的数目:  6935\n",
      "大组数据的数目:  3065\n",
      "len(low_loader) 6935\n",
      "len(high_loader) 3065\n",
      "---prepare pair data---\n",
      "num pairs:  1532\n",
      "---prepare done----\n",
      "linear的第一对train labels:  [True, False]\n",
      "linear的第一对test labels=true的index:  1\n"
     ]
    }
   ],
   "source": [
    "# 提取出cos<0.4和cos>0.6的样本，生成两个df \n",
    "import numpy as np\n",
    "# 1.找索引\n",
    "index_low = mse_df<0.1\n",
    "index_high = mse_df>0.1\n",
    "\n",
    "print('小组中的数据索引：', index_low)\n",
    "print('大组中的数据索引：', index_high)\n",
    "\n",
    "print('小组数据的数目: ', sum(index_low))\n",
    "print('大组数据的数目: ', sum(index_high))\n",
    "# index = np.where(index_low)\n",
    "# print(len(index[0]))\n",
    "# print(index[0])\n",
    "# for i in range(len(index[0])):\n",
    "#     print(index[0][i])\n",
    "#     print('ok')\n",
    "# 2. 提取出cifar10中对应的数据，形成两个数据集dataloader\n",
    "low_loader = get_indexed_loader(index_low)\n",
    "high_loader = get_indexed_loader(index_high)\n",
    "min_len = min(sum(index_low),sum(index_high))\n",
    "# x = iter(low_loader).next()[1]\n",
    "# print(x)\n",
    "print('len(low_loader)', len(low_loader.dataset))\n",
    "print('len(high_loader)', len(high_loader.dataset))\n",
    "\n",
    "# 3. 构建pair data\n",
    "# low 的是true（seen），high的是false（unseen）\n",
    "train_loader,train_labels,test_loader,test_labels = pair_data(low_loader,\n",
    "                                                            high_loader,\n",
    "                                                            num_pairs=min_len//2)\n",
    "print('linear的第一对train labels: ',train_labels[0])\n",
    "print('linear的第一对test labels=true的index: ',test_labels[0].index(1))\n",
    "\n",
    "\n",
    "# 创建新的空DataFrame，用于存储满足条件的行  \n",
    "# purchase\n",
    "# df_low = inv_df[sim_df['mse'] < 0.1]  \n",
    "# df_high = inv_df[sim_df['mse'] > 0.1]  \n",
    "\n",
    "# 打印结果  \n",
    "# print(\"df1中cos值小于的样本:\")  \n",
    "# print(df_low.shape)  \n",
    "# print(\"\\n df1中cos值大于的样本:\")  \n",
    "# print(df_high.shape)\n"
   ]
  },
  {
   "cell_type": "code",
   "execution_count": 8,
   "metadata": {},
   "outputs": [
    {
     "name": "stderr",
     "output_type": "stream",
     "text": [
      "100%|██████████| 3064/3064 [00:03<00:00, 788.47it/s] \n"
     ]
    },
    {
     "name": "stdout",
     "output_type": "stream",
     "text": [
      "diff_data.shape:  torch.Size([1532, 20])\n",
      "direction shape of first layer:  (1, 20)\n",
      "direction of first layer:  [[0.20471215 0.22912152 0.21252196 0.21524982 0.21876824 0.2295554\n",
      "  0.21950732 0.22389567 0.22034289 0.21648166 0.20842876 0.20987701\n",
      "  0.20709513 0.19795713 0.25181118 0.14459723 0.22190714 0.2689624\n",
      "  0.27233168 0.26492012]]\n",
      "signs of first layer:  [-1.]\n"
     ]
    }
   ],
   "source": [
    "# repE过程\n",
    "repE_agent = RepE()\n",
    "\n",
    "# 2. collecting neural activity\n",
    "# 收集所有smashed data\n",
    "train_smashed_data_list,diff_data = repE_agent.collect_neural_activity(train_loader,client_net)\n",
    "print(\"diff_data.shape: \", diff_data.shape)\n",
    "\n",
    "# 3. constructing a linear model\n",
    "# 训练direction finder\n",
    "directions,signs = repE_agent.construct_linear_model(diff_data,train_smashed_data_list,train_labels)\n",
    "print('direction shape of first layer: ', directions.shape)\n",
    "print('direction of first layer: ', directions)\n",
    "print('signs of first layer: ', signs)\n",
    "\n"
   ]
  },
  {
   "cell_type": "code",
   "execution_count": 9,
   "metadata": {},
   "outputs": [
    {
     "name": "stderr",
     "output_type": "stream",
     "text": [
      "100%|██████████| 3064/3064 [00:01<00:00, 2124.62it/s]\n"
     ]
    },
    {
     "name": "stdout",
     "output_type": "stream",
     "text": [
      "[tensor(-0.9035), tensor(-1.9931)]\n",
      "quantified accuracy(privacy lekage): 0.5352480417754569 \n"
     ]
    }
   ],
   "source": [
    "# 4. 测试\n",
    "acc = repE_agent.eval_MIA_acc(test_loader,test_labels,client_net)\n",
    "print(f\"quantified accuracy(privacy lekage): {acc} \")\n"
   ]
  },
  {
   "cell_type": "markdown",
   "metadata": {},
   "source": [
    "## 3.2 可视化一下transformed data"
   ]
  },
  {
   "cell_type": "code",
   "execution_count": 10,
   "metadata": {},
   "outputs": [
    {
     "name": "stderr",
     "output_type": "stream",
     "text": [
      "100%|██████████| 6935/6935 [00:10<00:00, 652.05it/s]\n",
      "100%|██████████| 3065/3065 [00:04<00:00, 617.58it/s]"
     ]
    },
    {
     "name": "stdout",
     "output_type": "stream",
     "text": [
      "low_transed:  tensor([-1.3376, -1.8784, -0.8190,  ...,  0.3866, -0.2607, -1.4377])\n",
      "low_transed:  tensor([-1.3376, -1.8784, -0.8190,  ...,  0.3866, -0.2607, -1.4377])\n"
     ]
    },
    {
     "name": "stderr",
     "output_type": "stream",
     "text": [
      "\n"
     ]
    }
   ],
   "source": [
    "# low_loader和high_loader过一下\n",
    "low_transed = repE_agent.get_transformed_data(low_loader,client_net)\n",
    "high_transed = repE_agent.get_transformed_data(high_loader,client_net)\n",
    "\n",
    "print('low_transed: ', low_transed)\n",
    "print('low_transed: ', high_transed)\n",
    "# print('avg low_transed: ')"
   ]
  },
  {
   "cell_type": "code",
   "execution_count": 11,
   "metadata": {},
   "outputs": [
    {
     "name": "stdout",
     "output_type": "stream",
     "text": [
      "low_transed:  tensor([-1.3376, -1.8784, -0.8190,  ...,  0.3866, -0.2607, -1.4377])\n",
      "low_transed:  tensor([-1.8599, -3.9583,  1.0192,  ..., -2.6116,  2.9258,  2.1319])\n"
     ]
    }
   ],
   "source": [
    "print('low_transed: ', low_transed)\n",
    "print('low_transed: ', high_transed)"
   ]
  },
  {
   "cell_type": "code",
   "execution_count": 12,
   "metadata": {},
   "outputs": [
    {
     "data": {
      "image/png": "[encoded data removed]",
      "text/plain": [
       "<Figure size 500x500 with 1 Axes>"
      ]
     },
     "metadata": {},
     "output_type": "display_data"
    }
   ],
   "source": [
    "# 画图\n",
    "\n",
    "import matplotlib.pyplot as plt  \n",
    "counts_high, buckets_high = np.histogram(high_transed, bins=100, density=True) \n",
    "counts_low, buckets_low = np.histogram(low_transed, bins=100, density=True) \n",
    "counts_high = counts_high/np.sum(counts_high)\n",
    "counts_low = counts_low/np.sum(counts_low)\n",
    "\n",
    "plt.rcParams.update({\n",
    "#     'font.family': 'Times New Roman',\n",
    "    'font.size': 22,\n",
    "    'axes.labelsize': 22,\n",
    "    'axes.titlesize': 24,\n",
    "    'axes.linewidth': 1,\n",
    "    'xtick.labelsize': 18,\n",
    "    'ytick.labelsize': 18,\n",
    "    'xtick.major.size': 18,\n",
    "    'ytick.major.size': 18,\n",
    "    'xtick.major.width': 1,\n",
    "    'ytick.major.width': 1,\n",
    "    'legend.fontsize': 18,\n",
    "    'lines.linewidth': 40,\n",
    "    'lines.markersize': 16,\n",
    "    'axes.formatter.limits':(-2,2),\n",
    "    'axes.formatter.useoffset':False,\n",
    "    'axes.formatter.min_exponent':-2,\n",
    "    'axes.grid': True,\n",
    "    'grid.alpha': 0.53,\n",
    "    'grid.linestyle': '--',\n",
    "    # 'axes.spines.top': True,  # 修改此行\n",
    "    # 'axes.spines.right': True  # 修改此行\n",
    "})\n",
    "\n",
    "\n",
    "plt.figure(figsize=(5,5))\n",
    "plt.stairs(counts_low,buckets_low,fill=True, alpha=0.5)\n",
    "plt.stairs(counts_high,buckets_high,fill=True, alpha=0.5)\n",
    "# plt.scatter(range(len(ent_list_lowcos)), ent_list_lowcos, alpha=0.5)\n",
    "# plt.scatter(range(len(ent_list_highcos)), ent_list_highcos, alpha=0.5)\n",
    "plt.legend(['low-similarity','high-similarity'])\n",
    "plt.ylabel('Fraction',fontsize=18)\n",
    "plt.xlabel('Entropy of reconstr. input',fontsize=18)\n",
    "\n",
    "plt.tight_layout()\n",
    "# plt.savefig(f'./analysis_results/Purchase_entropy_distinct_histogram.pdf', dpi=300, format='pdf',bbox_inches ='tight')\n",
    "# plt.savefig(f'./analysis_results/Credit_entropy_distinct_histogram.pdf', dpi=300, format='pdf',bbox_inches ='tight')\n",
    "# plt.savefig(f'./analysis_results/Marketing_entropy_distinct_histogram.pdf', dpi=300, format='pdf',bbox_inches ='tight')\n",
    "plt.show()\n",
    "# 得出的结论是，cos越高，entropy越低？为什么？——这取决于原始数据的先验分布。"
   ]
  },
  {
   "cell_type": "code",
   "execution_count": null,
   "metadata": {},
   "outputs": [],
   "source": []
  }
 ],
 "metadata": {
  "language_info": {
   "name": "python"
  }
 },
 "nbformat": 4,
 "nbformat_minor": 2
}
