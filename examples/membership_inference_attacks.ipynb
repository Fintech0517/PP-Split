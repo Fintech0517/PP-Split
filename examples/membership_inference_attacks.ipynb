{
 "cells": [
  {
   "cell_type": "code",
   "execution_count": null,
   "metadata": {},
   "outputs": [],
   "source": [
    "# 该文件对 神经网络模型进行membership infernece attack，目前采用了4个攻击方法\n"
   ]
  },
  {
   "cell_type": "code",
   "execution_count": 15,
   "metadata": {},
   "outputs": [],
   "source": [
    "# 导包\n",
    "import os\n",
    "import torch\n",
    "import torchvision\n",
    "import torch.nn as nn\n",
    "import numpy as np\n",
    "import math\n",
    "import sys\n",
    "import urllib\n",
    "import pickle\n",
    "import argparse\n",
    "\n",
    "sys.path.append('/home/dengruijun/data/FinTech/PP-Split/')\n",
    "from ppsplit.attacks.membership_inference.Mentr_attack import MentrAttack # 包含了4种方法的攻击类\n",
    "from target_model.models.splitnn_utils import split_weights_client"
   ]
  },
  {
   "cell_type": "code",
   "execution_count": 13,
   "metadata": {},
   "outputs": [],
   "source": [
    "# 设置一些超参数\n",
    "batch_size = 100\n",
    "target_model_path = '/home/dengruijun/data/project/Inverse_efficacy/trained_models/Purchase100/model_best.pth'\n",
    "split_layer = 3"
   ]
  },
  {
   "cell_type": "code",
   "execution_count": 11,
   "metadata": {},
   "outputs": [
    {
     "ename": "NameError",
     "evalue": "name 'split_weights_client' is not defined",
     "output_type": "error",
     "traceback": [
      "\u001b[0;31m---------------------------------------------------------------------------\u001b[0m",
      "\u001b[0;31mNameError\u001b[0m                                 Traceback (most recent call last)",
      "Input \u001b[0;32mIn [11]\u001b[0m, in \u001b[0;36m<cell line: 9>\u001b[0;34m()\u001b[0m\n\u001b[1;32m      8\u001b[0m pweights  \u001b[38;5;241m=\u001b[39m torch\u001b[38;5;241m.\u001b[39mload(target_model_path)[\u001b[38;5;124m'\u001b[39m\u001b[38;5;124mstate_dict\u001b[39m\u001b[38;5;124m'\u001b[39m]\n\u001b[1;32m      9\u001b[0m \u001b[38;5;28;01mif\u001b[39;00m split_layer \u001b[38;5;241m<\u001b[39m \u001b[38;5;241m8\u001b[39m: \u001b[38;5;66;03m# \u001b[39;00m\n\u001b[0;32m---> 10\u001b[0m     pweights \u001b[38;5;241m=\u001b[39m \u001b[43msplit_weights_client\u001b[49m(pweights ,model\u001b[38;5;241m.\u001b[39mstate_dict())\n\u001b[1;32m     11\u001b[0m model\u001b[38;5;241m.\u001b[39mload_state_dict(pweights)\n\u001b[1;32m     12\u001b[0m model\u001b[38;5;241m.\u001b[39meval()\n",
      "\u001b[0;31mNameError\u001b[0m: name 'split_weights_client' is not defined"
     ]
    }
   ],
   "source": [
    "# purchase 数据集 和 模型 导入\n",
    "from target_model.models.PurchaseNet import PurchaseClassifier1\n",
    "\n",
    "class_num = 100 # Purchase的分类类别数目\n",
    "\n",
    "# 模型加载并切割：\n",
    "model = PurchaseClassifier1(layer=split_layer)\n",
    "pweights  = torch.load(target_model_path)['state_dict']\n",
    "if split_layer < 8: # \n",
    "    pweights = split_weights_client(pweights ,model.state_dict())\n",
    "model.load_state_dict(pweights)\n",
    "model.eval()\n",
    "\n",
    "# model = PurchaseClassifier1()\n",
    "# model = torch.nn.DataParallel(model).cuda()\n",
    "# checkpoint = torch.load(target_model_path)\n",
    "# model.load_state_dict(checkpoint['state_dict'])\n",
    "# model.eval()\n",
    "\n",
    "# 加载数据集\n",
    "shadow_train_loader, shadow_test_loader, target_train_loader, target_test_loader = prepare_purchase_data(batch_size=args.batch_size)\n"
   ]
  },
  {
   "cell_type": "code",
   "execution_count": null,
   "metadata": {},
   "outputs": [],
   "source": [
    "# Mentro attack 对象实例化\n",
    "MIA = MentrAttack(num_classes = class_num)\n",
    "\n",
    "# 攻击初始化，推理模型\n",
    "# 这里 shadow model 和 target model 用的是相同的一个\n",
    "MIA.prepare_model_performance(model, shadow_train_loader, shadow_test_loader, \n",
    "                              model, target_train_loader, target_test_loader)\n"
   ]
  },
  {
   "cell_type": "code",
   "execution_count": null,
   "metadata": {},
   "outputs": [],
   "source": [
    "# 实施MIA攻击\n",
    "# 设定要执行的攻击类型：默认是4种都执行\n",
    "benchmark_methods = ['correctness','confidence','entropy','modified entropy'] # 可以取子集\n",
    "MIA.mem_inf_benchmarks(all_methods=True)\n"
   ]
  },
  {
   "cell_type": "code",
   "execution_count": null,
   "metadata": {},
   "outputs": [],
   "source": [
    "# 实施MIA攻击，只执行指定的2种攻击\n",
    "benchmark_methods = ['correctness','modified entropy'] # 可以取子集\n",
    "MIA.mem_inf_benchmarks(all_methods=False, benchmark_methods = benchmark_methods)"
   ]
  }
 ],
 "metadata": {
  "kernelspec": {
   "display_name": "drj-pytorch",
   "language": "python",
   "name": "python3"
  },
  "language_info": {
   "codemirror_mode": {
    "name": "ipython",
    "version": 3
   },
   "file_extension": ".py",
   "mimetype": "text/x-python",
   "name": "python",
   "nbconvert_exporter": "python",
   "pygments_lexer": "ipython3",
   "version": "3.8.13"
  }
 },
 "nbformat": 4,
 "nbformat_minor": 2
}
