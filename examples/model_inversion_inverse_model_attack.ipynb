{
 "cells": [
  {
   "cell_type": "code",
   "execution_count": null,
   "metadata": {},
   "outputs": [],
   "source": [
    "# 导包\n",
    "from ppsplit.attacks.model_inversion.inverse_model import InverseModelAttack\n",
    "\n"
   ]
  },
  {
   "cell_type": "markdown",
   "metadata": {},
   "source": [
    "# cifar10"
   ]
  },
  {
   "cell_type": "code",
   "execution_count": null,
   "metadata": {},
   "outputs": [],
   "source": [
    "from target_model.data_preprocessing import get_cifar10_normalize"
   ]
  },
  {
   "cell_type": "code",
   "execution_count": null,
   "metadata": {},
   "outputs": [],
   "source": [
    "# 准备基本模型\n",
    "client_net_route = '/home/dengruijun/data/project/Inverse_efficacy/trained_models/VGG5/BN+Tanh/VGG5-20ep.pth'\n",
    "save_inverse_dir = '../results/VGG5/decoder/'\n",
    "trainloader,testloader = get_cifar10_normalize(batch_size=1)\n",
    "one_data_loader = get_one_data(testloader,batch_size = 1) #拿到第一个测试数据\n",
    "\n",
    "# VGG5\n",
    "model_path = '../results/VGG5/BN+Tanh/VGG5-0ep.pth' # VGG5-BN+Tanh\n",
    "vgg5_unit = VGG('Unit', 'VGG5', len(model_cfg['VGG5'])-1, model_cfg) # 加载模型结构\n",
    "vgg5_unit.load_state_dict(torch.load(model_path)) # 加载模型参数\n",
    "split_layer_list = list(range(len(model_cfg['VGG5'])))"
   ]
  },
  {
   "cell_type": "code",
   "execution_count": null,
   "metadata": {},
   "outputs": [],
   "source": [
    "# 训练decoder\n"
   ]
  },
  {
   "cell_type": "code",
   "execution_count": null,
   "metadata": {},
   "outputs": [],
   "source": []
  }
 ],
 "metadata": {
  "language_info": {
   "name": "python"
  }
 },
 "nbformat": 4,
 "nbformat_minor": 2
}
